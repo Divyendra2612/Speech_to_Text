{
 "cells": [
  {
   "cell_type": "code",
   "execution_count": 1,
   "id": "51edf687-1516-4ecc-8d58-2c9d2b590c4a",
   "metadata": {},
   "outputs": [],
   "source": [
    "import whisper\n",
    "\n",
    "model = whisper.load_model('base')\n",
    "result = model.transcribe('sampleee.wav', fp16=False)"
   ]
  },
  {
   "cell_type": "code",
   "execution_count": 2,
   "id": "b23e68cb-ad1e-489e-95cd-6db4b111c105",
   "metadata": {},
   "outputs": [
    {
     "data": {
      "text/plain": [
       "' Choose one of the following projects. AI, this recipe generator, phase recognition system, text to image generator, Newtonstein transfer, emotion detection, speech to text or algorithm checker.'"
      ]
     },
     "execution_count": 2,
     "metadata": {},
     "output_type": "execute_result"
    }
   ],
   "source": [
    "result['text']"
   ]
  },
  {
   "cell_type": "code",
   "execution_count": null,
   "id": "9d9a6e0a-c71c-4ad1-9224-315eb38b795f",
   "metadata": {},
   "outputs": [],
   "source": []
  }
 ],
 "metadata": {
  "kernelspec": {
   "display_name": "Python 3 (ipykernel)",
   "language": "python",
   "name": "python3"
  },
  "language_info": {
   "codemirror_mode": {
    "name": "ipython",
    "version": 3
   },
   "file_extension": ".py",
   "mimetype": "text/x-python",
   "name": "python",
   "nbconvert_exporter": "python",
   "pygments_lexer": "ipython3",
   "version": "3.12.1"
  }
 },
 "nbformat": 4,
 "nbformat_minor": 5
}
